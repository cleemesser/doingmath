{
 "cells": [
  {
   "cell_type": "markdown",
   "source": [
    "# Finding Primes with the Sieve of Eratosthenes\r\n",
    "pronunciation: \"air-uh-TAWS-thuh-neeze\""
   ],
   "metadata": {}
  },
  {
   "cell_type": "markdown",
   "source": [
    "Basic idea is that prime numbers a a precious resource in number land (there are only an infinite number of them!). They are sort of the building blocks of all the integers."
   ],
   "metadata": {}
  },
  {
   "cell_type": "code",
   "execution_count": null,
   "source": [
    "N = 100\r\n",
    "candidates = {ii : 'unknown' for ii in range(1,N+1)}\r\n",
    "candidates"
   ],
   "outputs": [],
   "metadata": {}
  },
  {
   "cell_type": "code",
   "execution_count": null,
   "source": [
    "for candidate_number in candidates:\r\n",
    "    if candidates[candidate_number] != 'unknown':\r\n",
    "        print(f'''We already think {candidate_number} is {\"prime\" if candidates[candidate_number] else \"not-prime\"}''')\r\n",
    "    ans = raw_input(f\"is {candidate_number} prime? [y/n/unknown]\")\r\n",
    "    if ans == 'y':\r\n",
    "        candidates[candidate_number] = True\r\n",
    "    elif ans == 'n':\r\n",
    "        candidates[candidate_number] = False\r\n",
    "    else:\r\n",
    "        candidates[candidate_number] = 'unknown'\r\n",
    "        print(f\"you entered that you did not know if {candidate_number} was prime. Will have to go back to that one.\")\r\n",
    "    "
   ],
   "outputs": [],
   "metadata": {}
  },
  {
   "cell_type": "code",
   "execution_count": null,
   "source": [],
   "outputs": [],
   "metadata": {}
  },
  {
   "cell_type": "markdown",
   "source": [],
   "metadata": {}
  }
 ],
 "metadata": {
  "orig_nbformat": 4,
  "language_info": {
   "name": "plaintext"
  }
 },
 "nbformat": 4,
 "nbformat_minor": 2
}