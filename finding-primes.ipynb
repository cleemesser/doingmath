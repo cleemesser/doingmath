{
  "nbformat": 4,
  "nbformat_minor": 0,
  "metadata": {
    "orig_nbformat": 4,
    "colab": {
      "name": "finding-primes.ipynb",
      "provenance": [],
      "include_colab_link": true
    },
    "language_info": {
      "name": "python"
    },
    "kernelspec": {
      "name": "python3",
      "display_name": "Python 3"
    }
  },
  "cells": [
    {
      "cell_type": "markdown",
      "metadata": {
        "id": "view-in-github",
        "colab_type": "text"
      },
      "source": [
        "<a href=\"https://colab.research.google.com/github/cleemesser/doingmath/blob/main/finding-primes.ipynb\" target=\"_parent\"><img src=\"https://colab.research.google.com/assets/colab-badge.svg\" alt=\"Open In Colab\"/></a>"
      ]
    },
    {
      "cell_type": "markdown",
      "metadata": {
        "id": "SazxT1wreLFe"
      },
      "source": [
        "# Finding Primes with the Sieve of Eratosthenes\n",
        "pronunciation: \"air-uh-TAWS-thuh-neeze\""
      ]
    },
    {
      "cell_type": "markdown",
      "metadata": {
        "id": "UlxmlaOaeLF5"
      },
      "source": [
        "Basic idea is that prime numbers a a precious resource in number land (there are only an infinite number of them!). They are sort of the building blocks of all the integers."
      ]
    },
    {
      "cell_type": "code",
      "metadata": {
        "id": "cEenhDWZeLGH",
        "outputId": "69a1f516-486b-495f-efb6-b4e9685ab795",
        "colab": {
          "base_uri": "https://localhost:8080/"
        }
      },
      "source": [
        "N = 20\n",
        "candidates = {ii : 'unknown' for ii in range(1,N+1)}\n",
        "candidates\n",
        "# use 'unknown' to say we don't know yet if an integer is prime\n",
        "# use True if it is a prime\n",
        "# use False if it is not a prime"
      ],
      "execution_count": 1,
      "outputs": [
        {
          "output_type": "execute_result",
          "data": {
            "text/plain": [
              "{1: 'unknown',\n",
              " 2: 'unknown',\n",
              " 3: 'unknown',\n",
              " 4: 'unknown',\n",
              " 5: 'unknown',\n",
              " 6: 'unknown',\n",
              " 7: 'unknown',\n",
              " 8: 'unknown',\n",
              " 9: 'unknown',\n",
              " 10: 'unknown',\n",
              " 11: 'unknown',\n",
              " 12: 'unknown',\n",
              " 13: 'unknown',\n",
              " 14: 'unknown',\n",
              " 15: 'unknown',\n",
              " 16: 'unknown',\n",
              " 17: 'unknown',\n",
              " 18: 'unknown',\n",
              " 19: 'unknown',\n",
              " 20: 'unknown'}"
            ]
          },
          "metadata": {},
          "execution_count": 1
        }
      ]
    },
    {
      "cell_type": "code",
      "metadata": {
        "id": "ZMYkUPqFeLGN",
        "outputId": "504017a9-21bc-48ac-fa81-34d400a3308a",
        "colab": {
          "base_uri": "https://localhost:8080/"
        }
      },
      "source": [
        "for candidate_number in candidates:\n",
        "    if candidates[candidate_number] != 'unknown':\n",
        "        print(f'''We already think {candidate_number} is {\"prime\" if candidates[candidate_number] else \"not-prime\"}''')\n",
        "        continue\n",
        "    ans = input(f\"is {candidate_number} prime? [y/n/unknown]\")\n",
        "    if ans == 'y':\n",
        "        candidates[candidate_number] = True\n",
        "        for ii in range(candidate_number+1, N+1):\n",
        "            if ii % candidate_number == 0 and candidate_number != 1:\n",
        "                candidates[ii] = False\n",
        "    elif ans == 'n':\n",
        "        candidates[candidate_number] = False\n",
        "    else:\n",
        "        candidates[candidate_number] = 'unknown'\n",
        "        print(f\"you entered that you did not know if {candidate_number} was prime. Will have to go back to that one.\")\n",
        "\n",
        "    "
      ],
      "execution_count": 19,
      "outputs": [
        {
          "output_type": "stream",
          "name": "stdout",
          "text": [
            "is 1 prime? [y/n/unknown]n\n",
            "is 2 prime? [y/n/unknown]y\n",
            "is 3 prime? [y/n/unknown]y\n",
            "We already think 4 is not-prime\n",
            "is 5 prime? [y/n/unknown]y\n",
            "We already think 6 is not-prime\n",
            "is 7 prime? [y/n/unknown]y\n",
            "We already think 8 is not-prime\n",
            "We already think 9 is not-prime\n",
            "We already think 10 is not-prime\n",
            "is 11 prime? [y/n/unknown]y\n",
            "We already think 12 is not-prime\n",
            "is 13 prime? [y/n/unknown]y\n",
            "We already think 14 is not-prime\n",
            "We already think 15 is not-prime\n",
            "We already think 16 is not-prime\n",
            "is 17 prime? [y/n/unknown]y\n",
            "We already think 18 is not-prime\n",
            "is 19 prime? [y/n/unknown]y\n",
            "We already think 20 is not-prime\n"
          ]
        }
      ]
    },
    {
      "cell_type": "code",
      "metadata": {
        "id": "Uoy_4HaXlV-x",
        "outputId": "a5ea50fc-93aa-4539-ec28-7b30c66caf69",
        "colab": {
          "base_uri": "https://localhost:8080/"
        }
      },
      "source": [
        "2 % 2"
      ],
      "execution_count": 17,
      "outputs": [
        {
          "output_type": "execute_result",
          "data": {
            "text/plain": [
              "0"
            ]
          },
          "metadata": {},
          "execution_count": 17
        }
      ]
    },
    {
      "cell_type": "code",
      "metadata": {
        "id": "k-__97bgeLGX",
        "outputId": "5b598488-9177-4cc6-9d9a-4fe058707215",
        "colab": {
          "base_uri": "https://localhost:8080/"
        }
      },
      "source": [
        "print(f\"primes up to {N} are:\")\n",
        "# print(candidates)\n",
        "[ii for ii in candidates if candidates[ii] == True ]"
      ],
      "execution_count": 21,
      "outputs": [
        {
          "output_type": "stream",
          "name": "stdout",
          "text": [
            "primes up to 20 are:\n"
          ]
        },
        {
          "output_type": "execute_result",
          "data": {
            "text/plain": [
              "[2, 3, 5, 7, 11, 13, 17, 19]"
            ]
          },
          "metadata": {},
          "execution_count": 21
        }
      ]
    },
    {
      "cell_type": "code",
      "metadata": {
        "id": "wz-npRglnfbA"
      },
      "source": [
        "import numba"
      ],
      "execution_count": 3,
      "outputs": []
    },
    {
      "cell_type": "code",
      "metadata": {
        "id": "tVKE8G3mnXEj"
      },
      "source": [
        "def is_prime(n: int) -> bool:\n",
        "    \"\"\"Primality test using 6k+-1 optimization.\"\"\"\n",
        "    if n <= 3:\n",
        "        return n > 1\n",
        "    if n % 2 == 0 or n % 3 == 0:\n",
        "        return False\n",
        "    i = 5\n",
        "    while i ** 2 <= n:\n",
        "        if n % i == 0 or n % (i + 2) == 0:\n",
        "            return False\n",
        "        i += 6\n",
        "    return True"
      ],
      "execution_count": 4,
      "outputs": []
    },
    {
      "cell_type": "code",
      "metadata": {
        "id": "g6iLNnCdnLmZ",
        "outputId": "184be81c-03d8-439a-e543-12a4913314d3",
        "colab": {
          "base_uri": "https://localhost:8080/"
        }
      },
      "source": [
        "@numba.jit\n",
        "def is_prime1(n: int) -> bool:\n",
        "    \"\"\"Primality test using 6k+-1 optimization.\"\"\"\n",
        "    if n <= 3:\n",
        "        return n > 1\n",
        "    if n % 2 == 0 or n % 3 == 0:\n",
        "        return False\n",
        "    i = 5\n",
        "    while i ** 2 <= n:\n",
        "        if n % i == 0 or n % (i + 2) == 0:\n",
        "            return False\n",
        "        i += 6\n",
        "    return True\n",
        "\n",
        "# compile\n",
        "is_prime1(10001)\n",
        "\n"
      ],
      "execution_count": 5,
      "outputs": [
        {
          "output_type": "execute_result",
          "data": {
            "text/plain": [
              "False"
            ]
          },
          "metadata": {},
          "execution_count": 5
        }
      ]
    },
    {
      "cell_type": "code",
      "metadata": {
        "id": "wgB4vnhspBlX"
      },
      "source": [
        "big = 10293912834928234283"
      ],
      "execution_count": 6,
      "outputs": []
    },
    {
      "cell_type": "code",
      "metadata": {
        "id": "sXlS0Lbwnv5_",
        "outputId": "042d0e93-58d8-41da-d45f-c7ad1b135a2f",
        "colab": {
          "base_uri": "https://localhost:8080/"
        }
      },
      "source": [
        "%timeit  for ii in range(1000):  is_prime(ii)"
      ],
      "execution_count": 7,
      "outputs": [
        {
          "output_type": "stream",
          "name": "stdout",
          "text": [
            "1000 loops, best of 5: 590 µs per loop\n"
          ]
        }
      ]
    },
    {
      "cell_type": "code",
      "metadata": {
        "id": "gDdpcA07oPTo",
        "outputId": "937f14c9-6256-4c8e-faf5-91a89cc1ef29",
        "colab": {
          "base_uri": "https://localhost:8080/"
        }
      },
      "source": [
        "%timeit for ii in range(1000): is_prime1(ii)"
      ],
      "execution_count": 8,
      "outputs": [
        {
          "output_type": "stream",
          "name": "stdout",
          "text": [
            "1000 loops, best of 5: 238 µs per loop\n"
          ]
        }
      ]
    },
    {
      "cell_type": "code",
      "metadata": {
        "id": "dd05pCwuoYnA",
        "outputId": "a2e73898-a3eb-4c8b-d0b6-af0244502f4d",
        "colab": {
          "base_uri": "https://localhost:8080/"
        }
      },
      "source": [
        "%timeit is_prime(big)"
      ],
      "execution_count": 9,
      "outputs": [
        {
          "output_type": "stream",
          "name": "stdout",
          "text": [
            "100000 loops, best of 5: 12.6 µs per loop\n"
          ]
        }
      ]
    },
    {
      "cell_type": "code",
      "metadata": {
        "id": "cG8_OLz2o-aI",
        "outputId": "35725ca7-dbd9-4600-f598-c33a792f8b4a",
        "colab": {
          "base_uri": "https://localhost:8080/",
          "height": 387
        }
      },
      "source": [
        "%timeit for ii in range(big, big+10): is_prime1(ii)"
      ],
      "execution_count": 10,
      "outputs": [
        {
          "output_type": "error",
          "ename": "OverflowError",
          "evalue": "ignored",
          "traceback": [
            "\u001b[0;31m---------------------------------------------------------------------------\u001b[0m",
            "\u001b[0;31mOverflowError\u001b[0m                             Traceback (most recent call last)",
            "\u001b[0;32m<ipython-input-10-e6196890bf29>\u001b[0m in \u001b[0;36m<module>\u001b[0;34m()\u001b[0m\n\u001b[0;32m----> 1\u001b[0;31m \u001b[0mget_ipython\u001b[0m\u001b[0;34m(\u001b[0m\u001b[0;34m)\u001b[0m\u001b[0;34m.\u001b[0m\u001b[0mmagic\u001b[0m\u001b[0;34m(\u001b[0m\u001b[0;34m'timeit for ii in range(big, big+10): is_prime1(ii)'\u001b[0m\u001b[0;34m)\u001b[0m\u001b[0;34m\u001b[0m\u001b[0;34m\u001b[0m\u001b[0m\n\u001b[0m",
            "\u001b[0;32m/usr/local/lib/python3.7/dist-packages/IPython/core/interactiveshell.py\u001b[0m in \u001b[0;36mmagic\u001b[0;34m(self, arg_s)\u001b[0m\n\u001b[1;32m   2158\u001b[0m         \u001b[0mmagic_name\u001b[0m\u001b[0;34m,\u001b[0m \u001b[0m_\u001b[0m\u001b[0;34m,\u001b[0m \u001b[0mmagic_arg_s\u001b[0m \u001b[0;34m=\u001b[0m \u001b[0marg_s\u001b[0m\u001b[0;34m.\u001b[0m\u001b[0mpartition\u001b[0m\u001b[0;34m(\u001b[0m\u001b[0;34m' '\u001b[0m\u001b[0;34m)\u001b[0m\u001b[0;34m\u001b[0m\u001b[0;34m\u001b[0m\u001b[0m\n\u001b[1;32m   2159\u001b[0m         \u001b[0mmagic_name\u001b[0m \u001b[0;34m=\u001b[0m \u001b[0mmagic_name\u001b[0m\u001b[0;34m.\u001b[0m\u001b[0mlstrip\u001b[0m\u001b[0;34m(\u001b[0m\u001b[0mprefilter\u001b[0m\u001b[0;34m.\u001b[0m\u001b[0mESC_MAGIC\u001b[0m\u001b[0;34m)\u001b[0m\u001b[0;34m\u001b[0m\u001b[0;34m\u001b[0m\u001b[0m\n\u001b[0;32m-> 2160\u001b[0;31m         \u001b[0;32mreturn\u001b[0m \u001b[0mself\u001b[0m\u001b[0;34m.\u001b[0m\u001b[0mrun_line_magic\u001b[0m\u001b[0;34m(\u001b[0m\u001b[0mmagic_name\u001b[0m\u001b[0;34m,\u001b[0m \u001b[0mmagic_arg_s\u001b[0m\u001b[0;34m)\u001b[0m\u001b[0;34m\u001b[0m\u001b[0;34m\u001b[0m\u001b[0m\n\u001b[0m\u001b[1;32m   2161\u001b[0m \u001b[0;34m\u001b[0m\u001b[0m\n\u001b[1;32m   2162\u001b[0m     \u001b[0;31m#-------------------------------------------------------------------------\u001b[0m\u001b[0;34m\u001b[0m\u001b[0;34m\u001b[0m\u001b[0;34m\u001b[0m\u001b[0m\n",
            "\u001b[0;32m/usr/local/lib/python3.7/dist-packages/IPython/core/interactiveshell.py\u001b[0m in \u001b[0;36mrun_line_magic\u001b[0;34m(self, magic_name, line)\u001b[0m\n\u001b[1;32m   2079\u001b[0m                 \u001b[0mkwargs\u001b[0m\u001b[0;34m[\u001b[0m\u001b[0;34m'local_ns'\u001b[0m\u001b[0;34m]\u001b[0m \u001b[0;34m=\u001b[0m \u001b[0msys\u001b[0m\u001b[0;34m.\u001b[0m\u001b[0m_getframe\u001b[0m\u001b[0;34m(\u001b[0m\u001b[0mstack_depth\u001b[0m\u001b[0;34m)\u001b[0m\u001b[0;34m.\u001b[0m\u001b[0mf_locals\u001b[0m\u001b[0;34m\u001b[0m\u001b[0;34m\u001b[0m\u001b[0m\n\u001b[1;32m   2080\u001b[0m             \u001b[0;32mwith\u001b[0m \u001b[0mself\u001b[0m\u001b[0;34m.\u001b[0m\u001b[0mbuiltin_trap\u001b[0m\u001b[0;34m:\u001b[0m\u001b[0;34m\u001b[0m\u001b[0;34m\u001b[0m\u001b[0m\n\u001b[0;32m-> 2081\u001b[0;31m                 \u001b[0mresult\u001b[0m \u001b[0;34m=\u001b[0m \u001b[0mfn\u001b[0m\u001b[0;34m(\u001b[0m\u001b[0;34m*\u001b[0m\u001b[0margs\u001b[0m\u001b[0;34m,\u001b[0m\u001b[0;34m**\u001b[0m\u001b[0mkwargs\u001b[0m\u001b[0;34m)\u001b[0m\u001b[0;34m\u001b[0m\u001b[0;34m\u001b[0m\u001b[0m\n\u001b[0m\u001b[1;32m   2082\u001b[0m             \u001b[0;32mreturn\u001b[0m \u001b[0mresult\u001b[0m\u001b[0;34m\u001b[0m\u001b[0;34m\u001b[0m\u001b[0m\n\u001b[1;32m   2083\u001b[0m \u001b[0;34m\u001b[0m\u001b[0m\n",
            "\u001b[0;32m<decorator-gen-52>\u001b[0m in \u001b[0;36mtimeit\u001b[0;34m(self, line, cell)\u001b[0m\n",
            "\u001b[0;32m/usr/local/lib/python3.7/dist-packages/IPython/core/magic.py\u001b[0m in \u001b[0;36m<lambda>\u001b[0;34m(f, *a, **k)\u001b[0m\n\u001b[1;32m    186\u001b[0m     \u001b[0;31m# but it's overkill for just that one bit of state.\u001b[0m\u001b[0;34m\u001b[0m\u001b[0;34m\u001b[0m\u001b[0;34m\u001b[0m\u001b[0m\n\u001b[1;32m    187\u001b[0m     \u001b[0;32mdef\u001b[0m \u001b[0mmagic_deco\u001b[0m\u001b[0;34m(\u001b[0m\u001b[0marg\u001b[0m\u001b[0;34m)\u001b[0m\u001b[0;34m:\u001b[0m\u001b[0;34m\u001b[0m\u001b[0;34m\u001b[0m\u001b[0m\n\u001b[0;32m--> 188\u001b[0;31m         \u001b[0mcall\u001b[0m \u001b[0;34m=\u001b[0m \u001b[0;32mlambda\u001b[0m \u001b[0mf\u001b[0m\u001b[0;34m,\u001b[0m \u001b[0;34m*\u001b[0m\u001b[0ma\u001b[0m\u001b[0;34m,\u001b[0m \u001b[0;34m**\u001b[0m\u001b[0mk\u001b[0m\u001b[0;34m:\u001b[0m \u001b[0mf\u001b[0m\u001b[0;34m(\u001b[0m\u001b[0;34m*\u001b[0m\u001b[0ma\u001b[0m\u001b[0;34m,\u001b[0m \u001b[0;34m**\u001b[0m\u001b[0mk\u001b[0m\u001b[0;34m)\u001b[0m\u001b[0;34m\u001b[0m\u001b[0;34m\u001b[0m\u001b[0m\n\u001b[0m\u001b[1;32m    189\u001b[0m \u001b[0;34m\u001b[0m\u001b[0m\n\u001b[1;32m    190\u001b[0m         \u001b[0;32mif\u001b[0m \u001b[0mcallable\u001b[0m\u001b[0;34m(\u001b[0m\u001b[0marg\u001b[0m\u001b[0;34m)\u001b[0m\u001b[0;34m:\u001b[0m\u001b[0;34m\u001b[0m\u001b[0;34m\u001b[0m\u001b[0m\n",
            "\u001b[0;32m/usr/local/lib/python3.7/dist-packages/IPython/core/magics/execution.py\u001b[0m in \u001b[0;36mtimeit\u001b[0;34m(self, line, cell)\u001b[0m\n\u001b[1;32m   1055\u001b[0m             \u001b[0mnumber\u001b[0m \u001b[0;34m=\u001b[0m \u001b[0;36m1\u001b[0m\u001b[0;34m\u001b[0m\u001b[0;34m\u001b[0m\u001b[0m\n\u001b[1;32m   1056\u001b[0m             \u001b[0;32mfor\u001b[0m \u001b[0m_\u001b[0m \u001b[0;32min\u001b[0m \u001b[0mrange\u001b[0m\u001b[0;34m(\u001b[0m\u001b[0;36m1\u001b[0m\u001b[0;34m,\u001b[0m \u001b[0;36m10\u001b[0m\u001b[0;34m)\u001b[0m\u001b[0;34m:\u001b[0m\u001b[0;34m\u001b[0m\u001b[0;34m\u001b[0m\u001b[0m\n\u001b[0;32m-> 1057\u001b[0;31m                 \u001b[0mtime_number\u001b[0m \u001b[0;34m=\u001b[0m \u001b[0mtimer\u001b[0m\u001b[0;34m.\u001b[0m\u001b[0mtimeit\u001b[0m\u001b[0;34m(\u001b[0m\u001b[0mnumber\u001b[0m\u001b[0;34m)\u001b[0m\u001b[0;34m\u001b[0m\u001b[0;34m\u001b[0m\u001b[0m\n\u001b[0m\u001b[1;32m   1058\u001b[0m                 \u001b[0mworst_tuning\u001b[0m \u001b[0;34m=\u001b[0m \u001b[0mmax\u001b[0m\u001b[0;34m(\u001b[0m\u001b[0mworst_tuning\u001b[0m\u001b[0;34m,\u001b[0m \u001b[0mtime_number\u001b[0m \u001b[0;34m/\u001b[0m \u001b[0mnumber\u001b[0m\u001b[0;34m)\u001b[0m\u001b[0;34m\u001b[0m\u001b[0;34m\u001b[0m\u001b[0m\n\u001b[1;32m   1059\u001b[0m                 \u001b[0;32mif\u001b[0m \u001b[0mtime_number\u001b[0m \u001b[0;34m>=\u001b[0m \u001b[0;36m0.2\u001b[0m\u001b[0;34m:\u001b[0m\u001b[0;34m\u001b[0m\u001b[0;34m\u001b[0m\u001b[0m\n",
            "\u001b[0;32m/usr/local/lib/python3.7/dist-packages/IPython/core/magics/execution.py\u001b[0m in \u001b[0;36mtimeit\u001b[0;34m(self, number)\u001b[0m\n\u001b[1;32m    137\u001b[0m         \u001b[0mgc\u001b[0m\u001b[0;34m.\u001b[0m\u001b[0mdisable\u001b[0m\u001b[0;34m(\u001b[0m\u001b[0;34m)\u001b[0m\u001b[0;34m\u001b[0m\u001b[0;34m\u001b[0m\u001b[0m\n\u001b[1;32m    138\u001b[0m         \u001b[0;32mtry\u001b[0m\u001b[0;34m:\u001b[0m\u001b[0;34m\u001b[0m\u001b[0;34m\u001b[0m\u001b[0m\n\u001b[0;32m--> 139\u001b[0;31m             \u001b[0mtiming\u001b[0m \u001b[0;34m=\u001b[0m \u001b[0mself\u001b[0m\u001b[0;34m.\u001b[0m\u001b[0minner\u001b[0m\u001b[0;34m(\u001b[0m\u001b[0mit\u001b[0m\u001b[0;34m,\u001b[0m \u001b[0mself\u001b[0m\u001b[0;34m.\u001b[0m\u001b[0mtimer\u001b[0m\u001b[0;34m)\u001b[0m\u001b[0;34m\u001b[0m\u001b[0;34m\u001b[0m\u001b[0m\n\u001b[0m\u001b[1;32m    140\u001b[0m         \u001b[0;32mfinally\u001b[0m\u001b[0;34m:\u001b[0m\u001b[0;34m\u001b[0m\u001b[0;34m\u001b[0m\u001b[0m\n\u001b[1;32m    141\u001b[0m             \u001b[0;32mif\u001b[0m \u001b[0mgcold\u001b[0m\u001b[0;34m:\u001b[0m\u001b[0;34m\u001b[0m\u001b[0;34m\u001b[0m\u001b[0m\n",
            "\u001b[0;32m<magic-timeit>\u001b[0m in \u001b[0;36minner\u001b[0;34m(_it, _timer)\u001b[0m\n",
            "\u001b[0;31mOverflowError\u001b[0m: int too big to convert"
          ]
        }
      ]
    },
    {
      "cell_type": "code",
      "metadata": {
        "id": "R0nX63aRoWAZ",
        "outputId": "e03a3a10-71c8-407f-8c8b-5cf6b130a5c1",
        "colab": {
          "base_uri": "https://localhost:8080/"
        }
      },
      "source": [
        "is_prime1.inspect_llvm()"
      ],
      "execution_count": 13,
      "outputs": [
        {
          "output_type": "execute_result",
          "data": {
            "text/plain": [
              "{(int64,): '; ModuleID = \\'is_prime1\\'\\nsource_filename = \"<string>\"\\ntarget datalayout = \"e-m:e-p270:32:32-p271:32:32-p272:64:64-i64:64-f80:128-n8:16:32:64-S128\"\\ntarget triple = \"x86_64-unknown-linux-gnu\"\\n\\n@\"_ZN08NumbaEnv8__main__13is_prime1$241Ex\" = common local_unnamed_addr global i8* null\\n@.const.is_prime1 = internal constant [10 x i8] c\"is_prime1\\\\00\"\\n@PyExc_RuntimeError = external global i8\\n@\".const.missing Environment: _ZN08NumbaEnv8__main__13is_prime1$241Ex\" = internal constant [61 x i8] c\"missing Environment: _ZN08NumbaEnv8__main__13is_prime1$241Ex\\\\00\"\\n@\"_ZN08NumbaEnv5numba7cpython7numbers14int_power_impl12$3clocals$3e13int_power$242Exx\" = common local_unnamed_addr global i8* null\\n\\n; Function Attrs: nofree norecurse nounwind writeonly\\ndefine i32 @\"_ZN8__main__13is_prime1$241Ex\"(i8* noalias nocapture %retptr, { i8*, i32, i8* }** noalias nocapture %excinfo, i64 %arg.n) local_unnamed_addr #0 {\\nentry:\\n  %.13 = icmp slt i64 %arg.n, 4\\n  br i1 %.13, label %B10, label %B18.else.if\\n\\nB10:                                              ; preds = %entry\\n  %.39 = icmp sgt i64 %arg.n, 1\\n  %.54 = zext i1 %.39 to i8\\n  store i8 %.54, i8* %retptr, align 1\\n  ret i32 0\\n\\nB42:                                              ; preds = %B18.else.if\\n  store i8 0, i8* %retptr, align 1\\n  ret i32 0\\n\\nB52:                                              ; preds = %B18.else.if, %11\\n  %lsr.iv = phi i64 [ %lsr.iv.next, %11 ], [ -7, %B18.else.if ]\\n  %i.2.0 = phi i64 [ %13, %11 ], [ 5, %B18.else.if ]\\n  %.570.i = mul nsw i64 %i.2.0, %i.2.0\\n  %.293 = icmp sgt i64 %.570.i, %arg.n\\n  br i1 %.293, label %B106, label %B64.else.if\\n\\nB76:                                              ; preds = %24\\n  %0 = add i64 %i.2.0, 2\\n  %1 = or i64 %arg.n, %0\\n  %2 = and i64 %1, -4294967296\\n  %3 = icmp eq i64 %2, 0\\n  br i1 %3, label %4, label %9\\n\\n4:                                                ; preds = %B76\\n  %5 = trunc i64 %0 to i32\\n  %6 = trunc i64 %arg.n to i32\\n  %7 = urem i32 %6, %5\\n  %8 = zext i32 %7 to i64\\n  br label %11\\n\\n9:                                                ; preds = %B76\\n  %10 = srem i64 %arg.n, %0\\n  br label %11\\n\\n11:                                               ; preds = %9, %4\\n  %12 = phi i64 [ %8, %4 ], [ %10, %9 ]\\n  %.425 = icmp slt i64 %12, 0\\n  %.414.0 = select i1 %.425, i64 %lsr.iv, i64 0\\n  %.454 = icmp eq i64 %12, %.414.0\\n  %lsr.iv.next = add i64 %lsr.iv, -6\\n  %13 = add i64 %0, 4\\n  br i1 %.454, label %B92, label %B52\\n\\nB92:                                              ; preds = %11, %24\\n  store i8 0, i8* %retptr, align 1\\n  ret i32 0\\n\\nB106:                                             ; preds = %B52\\n  store i8 1, i8* %retptr, align 1\\n  ret i32 0\\n\\nB18.else.if:                                      ; preds = %entry\\n  %.872 = and i64 %arg.n, 1\\n  %.118 = icmp eq i64 %.872, 0\\n  %.1673 = urem i64 %arg.n, 3\\n  %.198 = icmp eq i64 %.1673, 0\\n  %or.cond = or i1 %.118, %.198\\n  br i1 %or.cond, label %B42, label %B52\\n\\nB64.else.if:                                      ; preds = %B52\\n  %14 = or i64 %arg.n, %i.2.0\\n  %15 = and i64 %14, -4294967296\\n  %16 = icmp eq i64 %15, 0\\n  br i1 %16, label %17, label %22\\n\\n17:                                               ; preds = %B64.else.if\\n  %18 = trunc i64 %i.2.0 to i32\\n  %19 = trunc i64 %arg.n to i32\\n  %20 = urem i32 %19, %18\\n  %21 = zext i32 %20 to i64\\n  br label %24\\n\\n22:                                               ; preds = %B64.else.if\\n  %23 = srem i64 %arg.n, %i.2.0\\n  br label %24\\n\\n24:                                               ; preds = %22, %17\\n  %25 = phi i64 [ %21, %17 ], [ %23, %22 ]\\n  %.339 = icmp slt i64 %25, 0\\n  %26 = add i64 %lsr.iv, 2\\n  %.328.0 = select i1 %.339, i64 %26, i64 0\\n  %.366 = icmp eq i64 %25, %.328.0\\n  br i1 %.366, label %B92, label %B76\\n}\\n\\ndefine i8* @\"_ZN7cpython8__main__13is_prime1$241Ex\"(i8* nocapture readnone %py_closure, i8* %py_args, i8* nocapture readnone %py_kws) local_unnamed_addr {\\nentry:\\n  %.5 = alloca i8*, align 8\\n  %.6 = call i32 (i8*, i8*, i64, i64, ...) @PyArg_UnpackTuple(i8* %py_args, i8* getelementptr inbounds ([10 x i8], [10 x i8]* @.const.is_prime1, i64 0, i64 0), i64 1, i64 1, i8** nonnull %.5)\\n  %.7 = icmp eq i32 %.6, 0\\n  br i1 %.7, label %entry.if, label %entry.endif, !prof !0\\n\\nentry.if:                                         ; preds = %entry.endif.endif.endif, %entry\\n  ret i8* null\\n\\nentry.endif:                                      ; preds = %entry\\n  %.11 = load i8*, i8** @\"_ZN08NumbaEnv8__main__13is_prime1$241Ex\", align 8\\n  %.16 = icmp eq i8* %.11, null\\n  br i1 %.16, label %entry.endif.if, label %entry.endif.endif, !prof !0\\n\\nentry.endif.if:                                   ; preds = %entry.endif\\n  call void @PyErr_SetString(i8* nonnull @PyExc_RuntimeError, i8* getelementptr inbounds ([61 x i8], [61 x i8]* @\".const.missing Environment: _ZN08NumbaEnv8__main__13is_prime1$241Ex\", i64 0, i64 0))\\n  ret i8* null\\n\\nentry.endif.endif:                                ; preds = %entry.endif\\n  %.20 = load i8*, i8** %.5, align 8\\n  %.23 = call i8* @PyNumber_Long(i8* %.20)\\n  %.24 = icmp eq i8* %.23, null\\n  br i1 %.24, label %entry.endif.endif.endif, label %entry.endif.endif.if, !prof !0\\n\\nentry.endif.endif.if:                             ; preds = %entry.endif.endif\\n  %.26 = call i64 @PyLong_AsLongLong(i8* nonnull %.23)\\n  call void @Py_DecRef(i8* nonnull %.23)\\n  br label %entry.endif.endif.endif\\n\\nentry.endif.endif.endif:                          ; preds = %entry.endif.endif, %entry.endif.endif.if\\n  %.21.0 = phi i64 [ %.26, %entry.endif.endif.if ], [ 0, %entry.endif.endif ]\\n  %.31 = call i8* @PyErr_Occurred()\\n  %.32 = icmp eq i8* %.31, null\\n  br i1 %.32, label %entry.endif.endif.endif.endif, label %entry.if, !prof !1\\n\\nentry.endif.endif.endif.endif:                    ; preds = %entry.endif.endif.endif\\n  %.13.i = icmp slt i64 %.21.0, 4\\n  br i1 %.13.i, label %\"_ZN8__main__13is_prime1$241Ex.exit\", label %B18.else.if.i\\n\\nB52.i:                                            ; preds = %B18.else.if.i, %11\\n  %lsr.iv = phi i64 [ %lsr.iv.next, %11 ], [ -7, %B18.else.if.i ]\\n  %i.2.0.i = phi i64 [ %13, %11 ], [ 5, %B18.else.if.i ]\\n  %.570.i.i = mul nsw i64 %i.2.0.i, %i.2.0.i\\n  %.293.i = icmp sgt i64 %.570.i.i, %.21.0\\n  br i1 %.293.i, label %entry.endif.endif.endif.endif.endif.if.endif, label %B64.else.if.i\\n\\nB76.i:                                            ; preds = %24\\n  %0 = add i64 %i.2.0.i, 2\\n  %1 = or i64 %.21.0, %0\\n  %2 = and i64 %1, -4294967296\\n  %3 = icmp eq i64 %2, 0\\n  br i1 %3, label %4, label %9\\n\\n4:                                                ; preds = %B76.i\\n  %5 = trunc i64 %0 to i32\\n  %6 = trunc i64 %.21.0 to i32\\n  %7 = urem i32 %6, %5\\n  %8 = zext i32 %7 to i64\\n  br label %11\\n\\n9:                                                ; preds = %B76.i\\n  %10 = srem i64 %.21.0, %0\\n  br label %11\\n\\n11:                                               ; preds = %9, %4\\n  %12 = phi i64 [ %8, %4 ], [ %10, %9 ]\\n  %.425.i = icmp slt i64 %12, 0\\n  %.414.0.i = select i1 %.425.i, i64 %lsr.iv, i64 0\\n  %.454.i = icmp eq i64 %12, %.414.0.i\\n  %lsr.iv.next = add i64 %lsr.iv, -6\\n  %13 = add i64 %0, 4\\n  br i1 %.454.i, label %\"_ZN8__main__13is_prime1$241Ex.exit.thread\", label %B52.i\\n\\nB18.else.if.i:                                    ; preds = %entry.endif.endif.endif.endif\\n  %.872.i = and i64 %.21.0, 1\\n  %.118.i = icmp eq i64 %.872.i, 0\\n  %.1673.i = urem i64 %.21.0, 3\\n  %.198.i = icmp eq i64 %.1673.i, 0\\n  %or.cond.i = or i1 %.118.i, %.198.i\\n  br i1 %or.cond.i, label %\"_ZN8__main__13is_prime1$241Ex.exit.thread\", label %B52.i\\n\\nB64.else.if.i:                                    ; preds = %B52.i\\n  %14 = or i64 %.21.0, %i.2.0.i\\n  %15 = and i64 %14, -4294967296\\n  %16 = icmp eq i64 %15, 0\\n  br i1 %16, label %17, label %22\\n\\n17:                                               ; preds = %B64.else.if.i\\n  %18 = trunc i64 %i.2.0.i to i32\\n  %19 = trunc i64 %.21.0 to i32\\n  %20 = urem i32 %19, %18\\n  %21 = zext i32 %20 to i64\\n  br label %24\\n\\n22:                                               ; preds = %B64.else.if.i\\n  %23 = srem i64 %.21.0, %i.2.0.i\\n  br label %24\\n\\n24:                                               ; preds = %22, %17\\n  %25 = phi i64 [ %21, %17 ], [ %23, %22 ]\\n  %.339.i = icmp slt i64 %25, 0\\n  %26 = add i64 %lsr.iv, 2\\n  %.328.0.i = select i1 %.339.i, i64 %26, i64 0\\n  %.366.i = icmp eq i64 %25, %.328.0.i\\n  br i1 %.366.i, label %\"_ZN8__main__13is_prime1$241Ex.exit.thread\", label %B76.i\\n\\n\"_ZN8__main__13is_prime1$241Ex.exit\":             ; preds = %entry.endif.endif.endif.endif\\n  %.39.i = icmp slt i64 %.21.0, 2\\n  br i1 %.39.i, label %\"_ZN8__main__13is_prime1$241Ex.exit.thread\", label %entry.endif.endif.endif.endif.endif.if.endif\\n\\n\"_ZN8__main__13is_prime1$241Ex.exit.thread\":      ; preds = %11, %24, %B18.else.if.i, %\"_ZN8__main__13is_prime1$241Ex.exit\"\\n  br label %entry.endif.endif.endif.endif.endif.if.endif\\n\\nentry.endif.endif.endif.endif.endif.if.endif:     ; preds = %B52.i, %\"_ZN8__main__13is_prime1$241Ex.exit.thread\", %\"_ZN8__main__13is_prime1$241Ex.exit\"\\n  %27 = phi i64 [ 0, %\"_ZN8__main__13is_prime1$241Ex.exit.thread\" ], [ 1, %\"_ZN8__main__13is_prime1$241Ex.exit\" ], [ 1, %B52.i ]\\n  %.65 = call i8* @PyBool_FromLong(i64 %27)\\n  ret i8* %.65\\n}\\n\\ndeclare i32 @PyArg_UnpackTuple(i8*, i8*, i64, i64, ...) local_unnamed_addr\\n\\ndeclare void @PyErr_SetString(i8*, i8*) local_unnamed_addr\\n\\ndeclare i8* @PyNumber_Long(i8*) local_unnamed_addr\\n\\ndeclare i64 @PyLong_AsLongLong(i8*) local_unnamed_addr\\n\\ndeclare void @Py_DecRef(i8*) local_unnamed_addr\\n\\ndeclare i8* @PyErr_Occurred() local_unnamed_addr\\n\\ndeclare i8* @PyBool_FromLong(i64) local_unnamed_addr\\n\\ndefine i1 @\"cfunc._ZN8__main__13is_prime1$241Ex\"(i64 %.1) local_unnamed_addr {\\nentry:\\n  %.13.i = icmp slt i64 %.1, 4\\n  br i1 %.13.i, label %\"_ZN8__main__13is_prime1$241Ex.exit\", label %B18.else.if.i\\n\\nB52.i:                                            ; preds = %B18.else.if.i, %11\\n  %lsr.iv = phi i64 [ %lsr.iv.next, %11 ], [ -7, %B18.else.if.i ]\\n  %i.2.0.i = phi i64 [ %13, %11 ], [ 5, %B18.else.if.i ]\\n  %.570.i.i = mul nsw i64 %i.2.0.i, %i.2.0.i\\n  %.293.i = icmp sgt i64 %.570.i.i, %.1\\n  br i1 %.293.i, label %entry.endif.endif, label %B64.else.if.i\\n\\nB76.i:                                            ; preds = %24\\n  %0 = add i64 %i.2.0.i, 2\\n  %1 = or i64 %.1, %0\\n  %2 = and i64 %1, -4294967296\\n  %3 = icmp eq i64 %2, 0\\n  br i1 %3, label %4, label %9\\n\\n4:                                                ; preds = %B76.i\\n  %5 = trunc i64 %0 to i32\\n  %6 = trunc i64 %.1 to i32\\n  %7 = urem i32 %6, %5\\n  %8 = zext i32 %7 to i64\\n  br label %11\\n\\n9:                                                ; preds = %B76.i\\n  %10 = srem i64 %.1, %0\\n  br label %11\\n\\n11:                                               ; preds = %9, %4\\n  %12 = phi i64 [ %8, %4 ], [ %10, %9 ]\\n  %.425.i = icmp slt i64 %12, 0\\n  %.414.0.i = select i1 %.425.i, i64 %lsr.iv, i64 0\\n  %.454.i = icmp eq i64 %12, %.414.0.i\\n  %lsr.iv.next = add i64 %lsr.iv, -6\\n  %13 = add i64 %0, 4\\n  br i1 %.454.i, label %\"_ZN8__main__13is_prime1$241Ex.exit.thread\", label %B52.i\\n\\nB18.else.if.i:                                    ; preds = %entry\\n  %.872.i = and i64 %.1, 1\\n  %.118.i = icmp eq i64 %.872.i, 0\\n  %.1673.i = urem i64 %.1, 3\\n  %.198.i = icmp eq i64 %.1673.i, 0\\n  %or.cond.i = or i1 %.118.i, %.198.i\\n  br i1 %or.cond.i, label %\"_ZN8__main__13is_prime1$241Ex.exit.thread\", label %B52.i\\n\\nB64.else.if.i:                                    ; preds = %B52.i\\n  %14 = or i64 %.1, %i.2.0.i\\n  %15 = and i64 %14, -4294967296\\n  %16 = icmp eq i64 %15, 0\\n  br i1 %16, label %17, label %22\\n\\n17:                                               ; preds = %B64.else.if.i\\n  %18 = trunc i64 %i.2.0.i to i32\\n  %19 = trunc i64 %.1 to i32\\n  %20 = urem i32 %19, %18\\n  %21 = zext i32 %20 to i64\\n  br label %24\\n\\n22:                                               ; preds = %B64.else.if.i\\n  %23 = srem i64 %.1, %i.2.0.i\\n  br label %24\\n\\n24:                                               ; preds = %22, %17\\n  %25 = phi i64 [ %21, %17 ], [ %23, %22 ]\\n  %.339.i = icmp slt i64 %25, 0\\n  %26 = add i64 %lsr.iv, 2\\n  %.328.0.i = select i1 %.339.i, i64 %26, i64 0\\n  %.366.i = icmp eq i64 %25, %.328.0.i\\n  br i1 %.366.i, label %\"_ZN8__main__13is_prime1$241Ex.exit.thread\", label %B76.i\\n\\n\"_ZN8__main__13is_prime1$241Ex.exit\":             ; preds = %entry\\n  %.39.i = icmp slt i64 %.1, 2\\n  br i1 %.39.i, label %\"_ZN8__main__13is_prime1$241Ex.exit.thread\", label %entry.endif.endif\\n\\n\"_ZN8__main__13is_prime1$241Ex.exit.thread\":      ; preds = %11, %24, %B18.else.if.i, %\"_ZN8__main__13is_prime1$241Ex.exit\"\\n  br label %entry.endif.endif\\n\\nentry.endif.endif:                                ; preds = %B52.i, %\"_ZN8__main__13is_prime1$241Ex.exit.thread\", %\"_ZN8__main__13is_prime1$241Ex.exit\"\\n  %27 = phi i1 [ false, %\"_ZN8__main__13is_prime1$241Ex.exit.thread\" ], [ true, %\"_ZN8__main__13is_prime1$241Ex.exit\" ], [ true, %B52.i ]\\n  ret i1 %27\\n}\\n\\n; Function Attrs: nounwind\\ndeclare void @llvm.stackprotector(i8*, i8**) #1\\n\\nattributes #0 = { nofree norecurse nounwind writeonly }\\nattributes #1 = { nounwind }\\n\\n!0 = !{!\"branch_weights\", i32 1, i32 99}\\n!1 = !{!\"branch_weights\", i32 99, i32 1}\\n'}"
            ]
          },
          "metadata": {},
          "execution_count": 13
        }
      ]
    },
    {
      "cell_type": "code",
      "metadata": {
        "id": "ZF_DUv3sQ1gA"
      },
      "source": [
        "import sympy"
      ],
      "execution_count": 14,
      "outputs": []
    },
    {
      "cell_type": "code",
      "metadata": {
        "id": "jlgLVTCrREl-"
      },
      "source": [
        "sympy "
      ],
      "execution_count": null,
      "outputs": []
    },
    {
      "cell_type": "code",
      "metadata": {
        "id": "Uqzsduj_n85g"
      },
      "source": [
        "import mpmath"
      ],
      "execution_count": 18,
      "outputs": []
    },
    {
      "cell_type": "code",
      "metadata": {
        "id": "7NBtnXXkR4Ge",
        "outputId": "6718e904-8a02-44d1-c5ae-b697feffca00",
        "colab": {
          "base_uri": "https://localhost:8080/"
        }
      },
      "source": [
        "from sympy import init_printing, init_session\n",
        "init_printing()\n",
        "init_session()"
      ],
      "execution_count": 20,
      "outputs": [
        {
          "output_type": "stream",
          "name": "stdout",
          "text": [
            "IPython console for SymPy 1.7.1 (Python 3.7.11-64-bit) (ground types: python)\n",
            "\n",
            "These commands were executed:\n",
            ">>> from __future__ import division\n",
            ">>> from sympy import *\n",
            ">>> x, y, z, t = symbols('x y z t')\n",
            ">>> k, m, n = symbols('k m n', integer=True)\n",
            ">>> f, g, h = symbols('f g h', cls=Function)\n",
            ">>> init_printing()\n",
            "\n",
            "Documentation can be found at https://docs.sympy.org/1.7.1/\n",
            "\n"
          ]
        }
      ]
    },
    {
      "cell_type": "code",
      "metadata": {
        "id": "_zqG0MK2XGGO"
      },
      "source": [
        "from sympy import sieve"
      ],
      "execution_count": 21,
      "outputs": []
    },
    {
      "cell_type": "code",
      "metadata": {
        "id": "wCTlP2znXxC-",
        "outputId": "8334a297-ffed-46a5-b2b2-3fa9ccceec67",
        "colab": {
          "base_uri": "https://localhost:8080/"
        }
      },
      "source": [
        "1000 in sieve"
      ],
      "execution_count": 22,
      "outputs": [
        {
          "output_type": "execute_result",
          "data": {
            "text/plain": [
              "False"
            ]
          },
          "metadata": {},
          "execution_count": 22
        }
      ]
    },
    {
      "cell_type": "code",
      "metadata": {
        "id": "pN7_UVCNX0YG",
        "outputId": "ef2f73ea-d4bb-4be3-ba56-94d5122d983a",
        "colab": {
          "base_uri": "https://localhost:8080/"
        }
      },
      "source": [
        "sieve._list"
      ],
      "execution_count": 23,
      "outputs": [
        {
          "output_type": "execute_result",
          "data": {
            "text/plain": [
              "array('l', [2, 3, 5, 7, 11, 13])"
            ]
          },
          "metadata": {},
          "execution_count": 23
        }
      ]
    },
    {
      "cell_type": "code",
      "metadata": {
        "id": "T2lTPm0VX2L2",
        "outputId": "8055ae29-dc12-4ada-9e13-b3bbc049ad1f",
        "colab": {
          "base_uri": "https://localhost:8080/"
        }
      },
      "source": [
        "1001 in sieve"
      ],
      "execution_count": 24,
      "outputs": [
        {
          "output_type": "execute_result",
          "data": {
            "text/plain": [
              "False"
            ]
          },
          "metadata": {},
          "execution_count": 24
        }
      ]
    },
    {
      "cell_type": "code",
      "metadata": {
        "id": "1gOqvOfKX6ql",
        "outputId": "6226d9dd-40c4-441e-a40d-3e6691d8b311",
        "colab": {
          "base_uri": "https://localhost:8080/"
        }
      },
      "source": [
        "sieve._list"
      ],
      "execution_count": 25,
      "outputs": [
        {
          "output_type": "execute_result",
          "data": {
            "text/plain": [
              "array('l', [2, 3, 5, 7, 11, 13, 17, 19, 23, 29, 31, 37, 41, 43, 47, 53, 59, 61, 67, 71, 73, 79, 83, 89, 97, 101, 103, 107, 109, 113, 127, 131, 137, 139, 149, 151, 157, 163, 167, 173, 179, 181, 191, 193, 197, 199, 211, 223, 227, 229, 233, 239, 241, 251, 257, 263, 269, 271, 277, 281, 283, 293, 307, 311, 313, 317, 331, 337, 347, 349, 353, 359, 367, 373, 379, 383, 389, 397, 401, 409, 419, 421, 431, 433, 439, 443, 449, 457, 461, 463, 467, 479, 487, 491, 499, 503, 509, 521, 523, 541, 547, 557, 563, 569, 571, 577, 587, 593, 599, 601, 607, 613, 617, 619, 631, 641, 643, 647, 653, 659, 661, 673, 677, 683, 691, 701, 709, 719, 727, 733, 739, 743, 751, 757, 761, 769, 773, 787, 797, 809, 811, 821, 823, 827, 829, 839, 853, 857, 859, 863, 877, 881, 883, 887, 907, 911, 919, 929, 937, 941, 947, 953, 967, 971, 977, 983, 991, 997])"
            ]
          },
          "metadata": {},
          "execution_count": 25
        }
      ]
    },
    {
      "cell_type": "code",
      "metadata": {
        "id": "8AXrArJTX75W",
        "outputId": "a5b63407-dfcd-4f91-f765-9ffdc1749c3b",
        "colab": {
          "base_uri": "https://localhost:8080/"
        }
      },
      "source": [
        "print([ii for ii in sieve.primerange(1,21)])"
      ],
      "execution_count": 27,
      "outputs": [
        {
          "output_type": "stream",
          "name": "stdout",
          "text": [
            "[2, 3, 5, 7, 11, 13, 17, 19]\n"
          ]
        }
      ]
    },
    {
      "cell_type": "code",
      "metadata": {
        "id": "CptJQf9pYOgW"
      },
      "source": [
        "from sympy import prime as nthprime"
      ],
      "execution_count": 28,
      "outputs": []
    },
    {
      "cell_type": "code",
      "metadata": {
        "id": "0j_7A8Y8Yez2",
        "outputId": "c6a65061-73f1-4623-b6d2-4bf7c18d07d8",
        "colab": {
          "base_uri": "https://localhost:8080/",
          "height": 36
        }
      },
      "source": [
        "nthprime(10)"
      ],
      "execution_count": 29,
      "outputs": [
        {
          "output_type": "execute_result",
          "data": {
            "image/png": "[encoded data removed]",
            "text/latex": "$\\displaystyle 29$",
            "text/plain": [
              "29"
            ]
          },
          "metadata": {},
          "execution_count": 29
        }
      ]
    },
    {
      "cell_type": "code",
      "metadata": {
        "id": "7FZLf9VHYh89",
        "outputId": "2c1c23f2-2b62-4ee8-b43e-62eb0a84222b",
        "colab": {
          "base_uri": "https://localhost:8080/",
          "height": 36
        }
      },
      "source": [
        "nthprime(100)"
      ],
      "execution_count": 30,
      "outputs": [
        {
          "output_type": "execute_result",
          "data": {
            "image/png": "[encoded data removed]",
            "text/latex": "$\\displaystyle 541$",
            "text/plain": [
              "541"
            ]
          },
          "metadata": {},
          "execution_count": 30
        }
      ]
    },
    {
      "cell_type": "code",
      "metadata": {
        "id": "UVkh1fZRYjow",
        "outputId": "3c2fa3bb-c93c-413c-a079-00377f97737f",
        "colab": {
          "base_uri": "https://localhost:8080/",
          "height": 36
        }
      },
      "source": [
        "nthprime(1000)"
      ],
      "execution_count": 31,
      "outputs": [
        {
          "output_type": "execute_result",
          "data": {
            "image/png": "[encoded data removed]",
            "text/latex": "$\\displaystyle 7919$",
            "text/plain": [
              "7919"
            ]
          },
          "metadata": {},
          "execution_count": 31
        }
      ]
    },
    {
      "cell_type": "code",
      "metadata": {
        "id": "2mZDGaIvYlLd",
        "outputId": "0a4ba2b4-a316-4d73-bdcd-e9f3051ca12d",
        "colab": {
          "base_uri": "https://localhost:8080/",
          "height": 36
        }
      },
      "source": [
        "nthprime(10000)"
      ],
      "execution_count": 32,
      "outputs": [
        {
          "output_type": "execute_result",
          "data": {
            "image/png": "[encoded data removed]",
            "text/latex": "$\\displaystyle 104729$",
            "text/plain": [
              "104729"
            ]
          },
          "metadata": {},
          "execution_count": 32
        }
      ]
    },
    {
      "cell_type": "code",
      "metadata": {
        "id": "vouGWS-HYoXO"
      },
      "source": [
        ""
      ],
      "execution_count": null,
      "outputs": []
    }
  ]
}